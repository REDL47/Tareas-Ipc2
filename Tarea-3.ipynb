{
  "nbformat": 4,
  "nbformat_minor": 0,
  "metadata": {
    "colab": {
      "name": "Untitled0.ipynb",
      "provenance": [],
      "authorship_tag": "ABX9TyODqvjRNodm30xdoCBiCFcL",
      "include_colab_link": true
    },
    "kernelspec": {
      "name": "python3",
      "display_name": "Python 3"
    },
    "language_info": {
      "name": "python"
    }
  },
  "cells": [
    {
      "cell_type": "markdown",
      "metadata": {
        "id": "view-in-github",
        "colab_type": "text"
      },
      "source": [
        "<a href=\"https://colab.research.google.com/github/REDL47/Tareas-Ipc2/blob/main/Tarea-3.ipynb\" target=\"_parent\"><img src=\"https://colab.research.google.com/assets/colab-badge.svg\" alt=\"Open In Colab\"/></a>"
      ]
    },
    {
      "cell_type": "markdown",
      "metadata": {
        "id": "Pc5NrXQ1Etxh"
      },
      "source": [
        "## **Listas Doblemente Enlazadas**"
      ]
    },
    {
      "cell_type": "markdown",
      "metadata": {
        "id": "OwKd262PE4RO"
      },
      "source": [
        "**Definicion de la clase estudiante**"
      ]
    },
    {
      "cell_type": "code",
      "metadata": {
        "id": "k0fpQ5bFFCL8"
      },
      "source": [
        "class estudiante:\n",
        "  def __init__(self, carne, nombre, edad, direccion, telefono, email, carrera, puesto):\n",
        "    self.carne = carne\n",
        "    self.nombre = nombre\n",
        "    self.edad = edad\n",
        "    self.direccion = direccion\n",
        "    self.telefono = telefono\n",
        "    self.email = email\n",
        "    self.carrera = carrera\n",
        "    self.puesto = puesto"
      ],
      "execution_count": 3,
      "outputs": []
    },
    {
      "cell_type": "markdown",
      "metadata": {
        "id": "kXDQtmugFGD8"
      },
      "source": [
        "**Definicion de la clase Nodo**"
      ]
    },
    {
      "cell_type": "code",
      "metadata": {
        "id": "X9pKGDUxFN24"
      },
      "source": [
        "class nodo:\n",
        "  def __init__(self, estudiante=None, siguiente=None, anterior=None):\n",
        "    self.estudiante = estudiante\n",
        "    self.siguiente = siguiente\n",
        "    self.anterior = anterior"
      ],
      "execution_count": 4,
      "outputs": []
    },
    {
      "cell_type": "markdown",
      "metadata": {
        "id": "zIJe8bzgFrG7"
      },
      "source": [
        "**Definicion de la Clase Lista Doblemente Enlazada**"
      ]
    },
    {
      "cell_type": "code",
      "metadata": {
        "id": "0A3hb6B8u0J8"
      },
      "source": [
        "class lista_doble:\n",
        "  def __init__(self):\n",
        "    self.primero = None\n",
        "\n",
        "  def insertar(self, estudiante):\n",
        "    if self.primero is None:\n",
        "      self.primero = nodo(estudiante=estudiante)\n",
        "    else:\n",
        "      actual = nodo(estudiante=estudiante, siguiente=self.primero)\n",
        "      self.primero.anterior = actual\n",
        "      self.primero = actual\n",
        "\n",
        "  def recorrer(self):\n",
        "    if self.primero is None:\n",
        "      return\n",
        "    actual = self.primero\n",
        "    print(\"carne:\",actual.estudiante.carne,\"nombre:\", actual.estudiante.nombre, \"email:\",actual.estudiante.email,\"->\")\n",
        "    while actual.siguiente:\n",
        "      actual = actual.siguiente\n",
        "      print(\"carne:\",actual.estudiante.carne,\"nombre:\", actual.estudiante.nombre, \"email:\",actual.estudiante.email,\"->\")\n",
        "\n",
        "  def eliminar(self, carne):\n",
        "    actual = self.primero\n",
        "    while actual:\n",
        "      if actual.estudiante.carne == carne:\n",
        "        if actual.anterior:\n",
        "          if actual.siguiente:\n",
        "            actual.anterior.siguiente = actual.siguiente\n",
        "            actual.siguiente.anterior = actual.anterior\n",
        "          else:\n",
        "            actual.anterior.siguiente = None\n",
        "            actual.anterior = None\n",
        "        else:\n",
        "          if actual.siguiente:\n",
        "            self.primero = actual.siguiente\n",
        "            actual.siguiente.anterior = None\n",
        "          else:\n",
        "            self.primero = None\n",
        "        return True\n",
        "      else:\n",
        "        actual = actual.siguiente\n",
        "    return False\n",
        "\n",
        "  def buscar(self, carne):\n",
        "    actual = self.primero\n",
        "    while actual:\n",
        "      if actual.estudiante.carne == carne:\n",
        "        print(\"carne:\",actual.estudiante.carne, \"nombre:\", actual.estudiante.nombre, \"email:\", actual.estudiante.email)\n",
        "        return\n",
        "      else:\n",
        "        actual = actual.siguiente\n",
        "    return print(\"El carne no esta disponible\")\n",
        "\n",
        "\n"
      ],
      "execution_count": 1,
      "outputs": []
    },
    {
      "cell_type": "markdown",
      "metadata": {
        "id": "E3E1cG-FGJim"
      },
      "source": [
        "**Creacion de objetos Estudante**"
      ]
    },
    {
      "cell_type": "code",
      "metadata": {
        "id": "MZSJ__0VGMYJ"
      },
      "source": [
        "e1 = estudiante(201915859, \"Gerson ortiz\", 20, \"9 calle 10-02 zona1\", 24400101,\"gerson.ortiz@gmail.com\", \"Ingenieria en sistemas\", \"Progarmador jr\")\n",
        "e2 = estudiante(201915060, \"Karen Hurtarte\", 21, \"7 calle 10-02 zona1\", 24400102,\"karen.hurtarte@gmail.com\", \"Ingenieria en sistemas\", \"Progarmador jr\")\n",
        "e3 = estudiante(201915861, \"Luis Mendez\", 22, \"9 calle 12-56 zona6\", 24400101,\"luis.mendez@gmail.com\", \"Ingenieria en sistemas\", \"Progarmador jr\")"
      ],
      "execution_count": 5,
      "outputs": []
    },
    {
      "cell_type": "markdown",
      "metadata": {
        "id": "-ryK5Q7fGYiI"
      },
      "source": [
        " **Insercion**  "
      ]
    },
    {
      "cell_type": "code",
      "metadata": {
        "id": "vpLtFUyEGbE5"
      },
      "source": [
        "lista_d = lista_doble()\n",
        "lista_d.insertar(e1)\n",
        "lista_d.insertar(e2)\n",
        "lista_d.insertar(e3)"
      ],
      "execution_count": 6,
      "outputs": []
    },
    {
      "cell_type": "markdown",
      "metadata": {
        "id": "9uNvBm56H-a6"
      },
      "source": [
        "**Recorrer la lista**"
      ]
    },
    {
      "cell_type": "code",
      "metadata": {
        "colab": {
          "base_uri": "https://localhost:8080/"
        },
        "id": "UOXBT7RIIC7g",
        "outputId": "7b45ca3c-326d-46ae-b0fd-17b9a676bcdd"
      },
      "source": [
        "lista_d.recorrer()"
      ],
      "execution_count": 7,
      "outputs": [
        {
          "output_type": "stream",
          "text": [
            "carne: 201915861 nombre: Luis Mendez email: luis.mendez@gmail.com ->\n",
            "carne: 201915060 nombre: Karen Hurtarte email: karen.hurtarte@gmail.com ->\n",
            "carne: 201915859 nombre: Gerson ortiz email: gerson.ortiz@gmail.com ->\n"
          ],
          "name": "stdout"
        }
      ]
    },
    {
      "cell_type": "markdown",
      "metadata": {
        "id": "v7d-f-ZBKL_M"
      },
      "source": [
        "**Eliminar el nodo del medio de la lista**\n",
        "\n"
      ]
    },
    {
      "cell_type": "code",
      "metadata": {
        "id": "MdXZdnsmKWTn",
        "colab": {
          "base_uri": "https://localhost:8080/"
        },
        "outputId": "acee9932-f8b5-43c9-e059-27385f1649a1"
      },
      "source": [
        "lista_d.eliminar(201915060)"
      ],
      "execution_count": 7,
      "outputs": [
        {
          "output_type": "execute_result",
          "data": {
            "text/plain": [
              "True"
            ]
          },
          "metadata": {},
          "execution_count": 7
        }
      ]
    },
    {
      "cell_type": "code",
      "metadata": {
        "id": "iZdU_oHVKg0i",
        "colab": {
          "base_uri": "https://localhost:8080/"
        },
        "outputId": "61c8c721-a8c3-4cde-aa49-6a6f659c98fa"
      },
      "source": [
        "lista_d.recorrer()"
      ],
      "execution_count": 8,
      "outputs": [
        {
          "output_type": "stream",
          "text": [
            "carne: 201915861 nombre: Luis Mendez email: luis.mendez@gmail.com ->\n",
            "carne: 201915859 nombre: Gerson ortiz email: gerson.ortiz@gmail.com ->\n"
          ],
          "name": "stdout"
        }
      ]
    },
    {
      "cell_type": "markdown",
      "metadata": {
        "id": "LIYIVY3eKkuO"
      },
      "source": [
        "**Eliminar el nodo primero de la lista**\n"
      ]
    },
    {
      "cell_type": "code",
      "metadata": {
        "id": "QuIE7QuUKny9",
        "colab": {
          "base_uri": "https://localhost:8080/"
        },
        "outputId": "90fb5a1c-90ea-4d78-bbe9-44661a3b1b6e"
      },
      "source": [
        "lista_d.eliminar(201915861)"
      ],
      "execution_count": 9,
      "outputs": [
        {
          "output_type": "execute_result",
          "data": {
            "text/plain": [
              "True"
            ]
          },
          "metadata": {},
          "execution_count": 9
        }
      ]
    },
    {
      "cell_type": "code",
      "metadata": {
        "id": "aGBK5366KsCL",
        "colab": {
          "base_uri": "https://localhost:8080/"
        },
        "outputId": "0792ff2e-cb0d-49ca-bd3a-a7e1f71209c9"
      },
      "source": [
        "lista_d.recorrer()"
      ],
      "execution_count": 10,
      "outputs": [
        {
          "output_type": "stream",
          "text": [
            "carne: 201915859 nombre: Gerson ortiz email: gerson.ortiz@gmail.com ->\n"
          ],
          "name": "stdout"
        }
      ]
    },
    {
      "cell_type": "markdown",
      "metadata": {
        "id": "85m3N-r6KzQQ"
      },
      "source": [
        "**Eliminar el nodo ultimo de la lista**"
      ]
    },
    {
      "cell_type": "code",
      "metadata": {
        "id": "1kXhBxuXK4lI",
        "colab": {
          "base_uri": "https://localhost:8080/"
        },
        "outputId": "03127380-977c-4948-b5df-1e63950661b8"
      },
      "source": [
        "lista_d.eliminar(201915859)"
      ],
      "execution_count": 11,
      "outputs": [
        {
          "output_type": "execute_result",
          "data": {
            "text/plain": [
              "True"
            ]
          },
          "metadata": {},
          "execution_count": 11
        }
      ]
    },
    {
      "cell_type": "code",
      "metadata": {
        "id": "_cikOVFeK7tD"
      },
      "source": [
        "lista_d.recorrer()"
      ],
      "execution_count": 12,
      "outputs": []
    },
    {
      "cell_type": "markdown",
      "metadata": {
        "id": "ijXq3OnnLHKI"
      },
      "source": [
        "**Eliminar nodo a nodo de la lista**"
      ]
    },
    {
      "cell_type": "code",
      "metadata": {
        "id": "biWwUpaHLPmH",
        "colab": {
          "base_uri": "https://localhost:8080/"
        },
        "outputId": "2f272fa2-2e87-482a-dca8-81331e9dae1f"
      },
      "source": [
        "lista_d.eliminar(201915060)\n",
        "lista_d.recorrer()"
      ],
      "execution_count": 14,
      "outputs": [
        {
          "output_type": "stream",
          "text": [
            "carne: 201915861 nombre: Luis Mendez email: luis.mendez@gmail.com ->\n",
            "carne: 201915859 nombre: Gerson ortiz email: gerson.ortiz@gmail.com ->\n"
          ],
          "name": "stdout"
        }
      ]
    },
    {
      "cell_type": "code",
      "metadata": {
        "id": "v90Xp0HTLVVa",
        "colab": {
          "base_uri": "https://localhost:8080/"
        },
        "outputId": "200b8887-af55-4f86-ca2c-6e6f506eeeca"
      },
      "source": [
        "lista_d.eliminar(201915861)\n",
        "lista_d.recorrer()"
      ],
      "execution_count": 15,
      "outputs": [
        {
          "output_type": "stream",
          "text": [
            "carne: 201915859 nombre: Gerson ortiz email: gerson.ortiz@gmail.com ->\n"
          ],
          "name": "stdout"
        }
      ]
    },
    {
      "cell_type": "code",
      "metadata": {
        "id": "JoiQcO2ILZ6d"
      },
      "source": [
        "lista_d.eliminar(201915859)\n",
        "lista_d.recorrer()"
      ],
      "execution_count": 16,
      "outputs": []
    },
    {
      "cell_type": "markdown",
      "metadata": {
        "id": "o8GIR1UG_LTF"
      },
      "source": [
        "**Buscar nodo de la lista**"
      ]
    },
    {
      "cell_type": "code",
      "metadata": {
        "colab": {
          "base_uri": "https://localhost:8080/"
        },
        "id": "tsS1LNZI_OsE",
        "outputId": "ce5b0c57-66bc-49c7-caf9-8f35e2bbecf3"
      },
      "source": [
        "lista_d.buscar(201915859)"
      ],
      "execution_count": 10,
      "outputs": [
        {
          "output_type": "stream",
          "text": [
            "carne: 201915859 nombre: Gerson ortiz email: gerson.ortiz@gmail.com\n"
          ],
          "name": "stdout"
        }
      ]
    }
  ]
}